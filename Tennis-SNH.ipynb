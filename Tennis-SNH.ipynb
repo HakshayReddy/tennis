{
 "cells": [
  {
   "cell_type": "markdown",
   "metadata": {},
   "source": [
    "# Collaboration and Competition\n",
    "\n",
    "---\n",
    "\n",
    "In this notebook, you will learn how to use the Unity ML-Agents environment for the third project of the [Deep Reinforcement Learning Nanodegree](https://www.udacity.com/course/deep-reinforcement-learning-nanodegree--nd893) program.\n",
    "\n",
    "### 1. Start the Environment\n",
    "\n",
    "We begin by importing the necessary packages.  If the code cell below returns an error, please revisit the project instructions to double-check that you have installed [Unity ML-Agents](https://github.com/Unity-Technologies/ml-agents/blob/master/docs/Installation.md) and [NumPy](http://www.numpy.org/)."
   ]
  },
  {
   "cell_type": "code",
   "execution_count": null,
   "metadata": {},
   "outputs": [],
   "source": [
    "import torch\n",
    "print(torch.cuda.is_available())"
   ]
  },
  {
   "cell_type": "code",
   "execution_count": null,
   "metadata": {},
   "outputs": [],
   "source": [
    "# !pip install numpy==1.13.3\n",
    "# %cd python\n",
    "# !pip install -r requirements.txt\n",
    "# !pip install -e .\n",
    "# !pip install protobuf==3.12.2"
   ]
  },
  {
   "cell_type": "code",
   "execution_count": null,
   "metadata": {},
   "outputs": [],
   "source": [
    "from unityagents import UnityEnvironment\n",
    "import numpy as np\n",
    "from ddpg_agent import Agent, load_and_run\n",
    "from collections import deque\n",
    "import torch\n",
    "print(torch.cuda.is_available())\n"
   ]
  },
  {
   "cell_type": "markdown",
   "metadata": {},
   "source": [
    "Next, we will start the environment!  **_Before running the code cell below_**, change the `file_name` parameter to match the location of the Unity environment that you downloaded.\n",
    "\n",
    "- **Mac**: `\"path/to/Tennis.app\"`\n",
    "- **Windows** (x86): `\"path/to/Tennis_Windows_x86/Tennis.exe\"`\n",
    "- **Windows** (x86_64): `\"path/to/Tennis_Windows_x86_64/Tennis.exe\"`\n",
    "- **Linux** (x86): `\"path/to/Tennis_Linux/Tennis.x86\"`\n",
    "- **Linux** (x86_64): `\"path/to/Tennis_Linux/Tennis.x86_64\"`\n",
    "- **Linux** (x86, headless): `\"path/to/Tennis_Linux_NoVis/Tennis.x86\"`\n",
    "- **Linux** (x86_64, headless): `\"path/to/Tennis_Linux_NoVis/Tennis.x86_64\"`\n",
    "\n",
    "For instance, if you are using a Mac, then you downloaded `Tennis.app`.  If this file is in the same folder as the notebook, then the line below should appear as follows:\n",
    "```\n",
    "env = UnityEnvironment(file_name=\"Tennis.app\")\n",
    "```"
   ]
  },
  {
   "cell_type": "code",
   "execution_count": null,
   "metadata": {},
   "outputs": [],
   "source": [
    "env = UnityEnvironment(file_name=\"Tennis_Windows_x86_64/Tennis.exe\")"
   ]
  },
  {
   "cell_type": "markdown",
   "metadata": {},
   "source": [
    "Environments contain **_brains_** which are responsible for deciding the actions of their associated agents. Here we check for the first brain available, and set it as the default brain we will be controlling from Python."
   ]
  },
  {
   "cell_type": "code",
   "execution_count": null,
   "metadata": {},
   "outputs": [],
   "source": [
    "# get the default brain\n",
    "brain_name = env.brain_names[0]\n",
    "brain = env.brains[brain_name]"
   ]
  },
  {
   "cell_type": "markdown",
   "metadata": {},
   "source": [
    "### 2. Examine the State and Action Spaces\n",
    "\n",
    "In this environment, two agents control rackets to bounce a ball over a net. If an agent hits the ball over the net, it receives a reward of +0.1.  If an agent lets a ball hit the ground or hits the ball out of bounds, it receives a reward of -0.01.  Thus, the goal of each agent is to keep the ball in play.\n",
    "\n",
    "The observation space consists of 8 variables corresponding to the position and velocity of the ball and racket. Two continuous actions are available, corresponding to movement toward (or away from) the net, and jumping. \n",
    "\n",
    "Run the code cell below to print some information about the environment."
   ]
  },
  {
   "cell_type": "code",
   "execution_count": null,
   "metadata": {},
   "outputs": [],
   "source": [
    "# reset the environment\n",
    "env_info = env.reset(train_mode=True)[brain_name]\n",
    "\n",
    "# number of agents \n",
    "num_agents = len(env_info.agents)\n",
    "print('Number of agents:', num_agents)\n",
    "\n",
    "# size of each action\n",
    "action_size = brain.vector_action_space_size\n",
    "print('Size of each action:', action_size)\n",
    "\n",
    "# examine the state space \n",
    "states = env_info.vector_observations\n",
    "state_size = states.shape[1]\n",
    "print('There are {} agents. Each observes a state with length: {}'.format(states.shape[0], state_size))\n",
    "print('The state for the first agent looks like:', states[0])"
   ]
  },
  {
   "cell_type": "markdown",
   "metadata": {},
   "source": [
    "### 3. Define the Learning Process with Deep Deterministic  Policy Gradient Method\n",
    "\n",
    "\n",
    "The learning process using the Deep Deterministic Policy Gradient method is defined below (ddpg). The input parameters are described in the comments below. The outputs are list of the maximum scores for each episode and a list of the maimum scores averaged over the current and preceding 99 episodes (100-episode averages). The episodes before 100 just have averages over the preceding scores although there are less than 100."
   ]
  },
  {
   "cell_type": "code",
   "execution_count": null,
   "metadata": {},
   "outputs": [],
   "source": [
    "\n",
    "def ddpg(\n",
    "    agent,\n",
    "    n_episodes=2000,\n",
    "    max_t=1500,\n",
    "    print_every=100,\n",
    "    gamma_initial = 0.9,\n",
    "    gamma_final = 0.99,\n",
    "    gamma_rate = 0.002,\n",
    "    tau_initial = 0.02,\n",
    "    tau_final = 0.001,\n",
    "    tau_rate = 0.001,\n",
    "    noise_factor = 1.0\n",
    "):\n",
    "    \"\"\"\n",
    "    Reinforcement learning with Deep Deterministic Policy Gradients\n",
    "    n_episodes (int): Maximum number of training episodes\n",
    "    max_t (int): Maximum number of timesteps per episode\n",
    "    epsilon_initial (float): Initial value of epsilon for epsilon-greedy selection of an action\n",
    "    epsilon_final (float): Final value of epsilon\n",
    "    epsilon_rate (float): A rate (0.0 to 1.0) for decreasing epsilon for each episode. Higher is faster decay.\n",
    "    gamma_initial (float): Initial gamma discount factor (0 to 1). Higher values favor long term over current rewards.\n",
    "    gamma_final (float): Final gamma discount factor (0 to 1).\n",
    "    gammma_rate (float): A rate (0 to 1) for increasing gamma.\n",
    "    beta_initial (float): For prioritized replay. Corrects bias induced by weighted sampling of stored experiences.\n",
    "        The beta parameters have no effect if the agent has prioritized experience replay activated.\n",
    "    beta_rate (float): Rate (0 to 1) for increasing beta to 1 as per Schauel et al. https://arxiv.org/abs/1511.05952\n",
    "    tau_initial (float): Initial value for tau, the weighting factor for soft updating the neural network.\n",
    "        The tau parameters have no effect if the agent uses fixed Q targets instead of soft updating.\n",
    "    tau_final (float): Final value of tau.\n",
    "    tau_rate (float): Rate (0 to 1) for increasing tau each episode.\n",
    "    \n",
    "    Returned values:\n",
    "        max_scores[]: The maximum scores for each episode.\n",
    "        avg_max_scores[]: The maximum scores averaged over the maximum score for the current episode and the preceding\n",
    "            99 episodes (100-episode averages).\n",
    "    \n",
    "    \"\"\"\n",
    "    \n",
    "    gamma = gamma_initial\n",
    "    gamma_scale = 1.0 - gamma_rate\n",
    "    \n",
    "    tau = tau_initial\n",
    "    tau_scale = 1.0 - tau_rate\n",
    "    \n",
    "    noise_scale = 1.0\n",
    "    \n",
    "    success = False\n",
    "    first05 = False\n",
    "    both05 = False\n",
    "    both1 = False\n",
    "    \n",
    "    max_scores_deque = deque(maxlen = print_every)\n",
    "    #scores_deque = deque(maxlen=print_every)\n",
    "    #scores = []\n",
    "    max_scores = []\n",
    "    avg_max_scores = []\n",
    "    best_avg_max = 0.0\n",
    "    best_agent_max = 0.0\n",
    "    for i_episode in range(1, n_episodes+1):\n",
    "        # Reset environment\n",
    "        env_info = env.reset(train_mode=True)[brain_name]\n",
    "        # Get next state\n",
    "        state = env_info.vector_observations\n",
    "        # state = env.reset()\n",
    "        agent.reset()\n",
    "        score = np.zeros(agent.num_agents)\n",
    "        for t in range(max_t):\n",
    "            # Get actions\n",
    "            action = agent.act(state, noise_scale)\n",
    "            #print(action)\n",
    "            # Send actions to the environment\n",
    "            env_info = env.step(action)[brain_name]\n",
    "            # Get next state\n",
    "            next_state = env_info.vector_observations\n",
    "            # Get rewards\n",
    "            reward = env_info.rewards\n",
    "            # Check if episode is finished\n",
    "            done = env_info.local_done\n",
    "            # Make the agent proceed to the next timestep in the environment\n",
    "            agent.step(state, action, reward, next_state, done, gamma, tau)\n",
    "            # Add rewards to scores\n",
    "            score += reward\n",
    "            # Replace the current state with the next state for the next episode\n",
    "            state = next_state\n",
    "            # Exit if episode is finished\n",
    "            if np.any(done):\n",
    "                break\n",
    "        #print('Total score (averaged over agents) this episode: {}'.format(np.mean(score)))\n",
    "        agent_avg = np.mean(score)\n",
    "        agent_max = np.max(score)\n",
    "        agent_min = np.min(score)\n",
    "        max_scores.append(agent_max)\n",
    "        max_scores_deque.append(agent_max)         \n",
    "        avg_max = np.mean(max_scores_deque)\n",
    "        avg_max_scores.append(avg_max)\n",
    "        #scores_deque.append(agent_avg)\n",
    "        #scores.append(agent_avg)\n",
    "        avg_score = np.mean(max_scores_deque)\n",
    "                          \n",
    "        print('Ep {}\\tEp AvgMax: {:.4f}\\tAg1: {:.4f}\\tAg2: {:.4f}\\tMax: {:.4f}\\tg: {:.4f}\\tns: {:.4f}\\ttau: {:.4f}'.format(\n",
    "            i_episode, avg_max, score[0], score[1], agent_max, gamma, noise_scale, tau))\n",
    "        if not first05 and agent_max > 0.5:\n",
    "            first05 = True\n",
    "            torch.save(agent.actor_local.state_dict(), 'checkpoint_actor_first.pth')\n",
    "            torch.save(agent.critic_local.state_dict(), 'checkpoint_critic_first.pth')\n",
    "            print(\"Agent max score >0.5 after {:d} episodes.\".format(i_episode))\n",
    "        if not both05 and score[0] > 0.5 and score[1] > 0.5:\n",
    "            both05 = True\n",
    "            torch.save(agent.actor_local.state_dict(), 'checkpoint_actor_both05.pth')\n",
    "            torch.save(agent.critic_local.state_dict(), 'checkpoint_critic_both05.pth')\n",
    "            print(\"Both agents score >0.5 after {:d} episodes.\".format(i_episode))\n",
    "        if not both1 and score[0] > 1.0 and score[1] > 1.0:\n",
    "            both1 = True\n",
    "            best_agent_max = agent_max\n",
    "            torch.save(agent.actor_local.state_dict(), 'checkpoint_actor_both1.pth')\n",
    "            torch.save(agent.critic_local.state_dict(), 'checkpoint_critic_both1.pth')\n",
    "            print(\"Both agents score >1 after {:d} episodes.\".format(i_episode))\n",
    "        if i_episode >=100 and not success and avg_max > 0.5:\n",
    "            success = True\n",
    "            best_avg_max = avg_max\n",
    "            torch.save(agent.actor_local.state_dict(), 'checkpoint_actor.pth')\n",
    "            torch.save(agent.critic_local.state_dict(), 'checkpoint_critic.pth')\n",
    "            print(\"100-episode-average max score >0.5 after {:d} episodes.\".format(i_episode))\n",
    "        if success and avg_max > best_avg_max:\n",
    "            best_avg_max = avg_max\n",
    "            torch.save(agent.actor_local.state_dict(), 'checkpoint_actor_best_avg_max.pth')\n",
    "            torch.save(agent.critic_local.state_dict(), 'checkpoint_critic_best_avg_max.pth')\n",
    "            print(\"New best 100-episode-average at Episode {:d}.\".format(i_episode))\n",
    "        if both1 and agent_max > best_agent_max:\n",
    "            best_agent_max = agent_max\n",
    "            torch.save(agent.actor_local.state_dict(), 'checkpoint_actor_best_agent_max.pth')\n",
    "            torch.save(agent.critic_local.state_dict(), 'checkpoint_critic_best_agent_max.pth')\n",
    "            print(\"New best agent maximum score at Episode {:d}.\".format(i_episode))\n",
    "                \n",
    "        # Increase gamma discount factor. Limit to gamma_final.\n",
    "        gamma = gamma_final - gamma_scale * (gamma_final - gamma)\n",
    "        \n",
    "        tau = tau_final - tau_scale * (tau_final - tau)\n",
    "        \n",
    "        noise_scale *= noise_factor\n",
    "\n",
    "    torch.save(agent.actor_local.state_dict(), 'checkpoint_actor_final.pth')\n",
    "    torch.save(agent.critic_local.state_dict(), 'checkpoint_critic_final.pth')\n",
    "    return max_scores, avg_max_scores\n"
   ]
  },
  {
   "cell_type": "markdown",
   "metadata": {},
   "source": [
    "## 4. Declare the Learning Agent\n",
    "\n",
    "Agent has the following parameters:\n",
    "\n",
    "    state_size: Number of parameters defining the environment state\n",
    "    action_size: Number of pameters defining the actions\n",
    "    num_agents: Number of learning agents\n",
    "    random_seed: Random seed number\n",
    "    batch_size: Batch size for neural network training\n",
    "    lr_actor: Learning rate for the actor neural network\n",
    "    lr_critic: Learning rate for the critic neural network\n",
    "    noise_theta (float): theta for Ornstein-Uhlenbeck noise process\n",
    "    noise_sigma (float): sigma for Ornstein-Uhlenbeck noise process\n",
    "    actor_fc1 (int): Number of hidden units in the first fully connected layer of the actor network\n",
    "    actor_fc2: Units in second layer\n",
    "    actor_fc3: Units in third fully connected layer. This parameter does nothing for the \"RELU\" network\n",
    "    critic_fc1: Number of hidden units in the first fully connected layer of the critic network\n",
    "    critic_fc2: Units in second layer\n",
    "    critic_fc3: Units in third layer. This parameter does nothing for the \"RELU\" network\n",
    "    update_every: The number of time steps between each updating of the neural networks \n",
    "    num_updates: The number of times to update the networks at every update_every interval\n",
    "    buffer_size: Buffer size for experience replay. Default 2e6.\n",
    "    network (string): The name of the neural networks that are used for learning.\n",
    "        There are only 2 choices, one with only 2 fully connected layers and RELU activations and one\n",
    "        with 3 fully connected layers with SELU activations.\n",
    "        Their names are \"RELU\" and \"SELU,\" respectively. Default is \"RELU.\"\n"
   ]
  },
  {
   "cell_type": "code",
   "execution_count": null,
   "metadata": {},
   "outputs": [],
   "source": [
    "agent = Agent(\n",
    "    state_size = state_size,\n",
    "    action_size = action_size,\n",
    "    num_agents = num_agents,\n",
    "    random_seed = 0,\n",
    "    batch_size = 1024, \n",
    "    lr_actor = 0.001,\n",
    "    lr_critic = 0.001,\n",
    "    noise_theta = 0.1,\n",
    "    noise_sigma = 0.05,\n",
    "    actor_fc1 = 128,\n",
    "    actor_fc2 = 128,\n",
    "    critic_fc1 = 128,\n",
    "    critic_fc2 = 128,\n",
    "    update_every = 20,\n",
    "    num_updates = 15,\n",
    "    buffer_size = int(2e6)\n",
    ")\n"
   ]
  },
  {
   "cell_type": "markdown",
   "metadata": {},
   "source": [
    "## 5. Train the Agent\n",
    "\n",
    "Perform the training and collect the scores. The following are printed for every episode:\n",
    "\n",
    "    Ep: The episode number\n",
    "    Ep AvgMax: The agent-maximum score averaged over the current episode and and previous 99 episodes.\n",
    "    Ag1: The score for the first agent for the current episode\n",
    "    Ag2: The score for the second agent.\n",
    "    Max: The maximum of the 2 scores\n",
    "    g: The gamma discount factor for the current episode.\n",
    "    ns: The noise scaling factor for the current episode.\n",
    "    tau: The weight factor used for soft updating for the current episode.\n",
    "    \n",
    "    Messages will appear to notify the user when various achievements occur:\n",
    "        1. First time achieving an agent maximum score of 0.5\n",
    "        2. First time both agents score >0.5\n",
    "        3. First time both agents score >1\n",
    "        3. Each time a new best agent-maximum score is achieved (after achievement 3)\n",
    "        4. First time the 100-episode-average maximum score >0.5 (after at least 100 episodes)\n",
    "        5. Each time a new best 100-episode-average maximum score is achieved (after achievement 4)\n",
    "        \n",
    "        A checkpoint is saved at each of these notifications. The checkpoints are overwritten for 3 and 5."
   ]
  },
  {
   "cell_type": "code",
   "execution_count": null,
   "metadata": {},
   "outputs": [],
   "source": [
    "max_scores, avg_max_scores = ddpg(\n",
    "    agent,\n",
    "    n_episodes = 2000,\n",
    "    max_t = 10000,\n",
    "    gamma_initial = 0.95,\n",
    "    gamma_final = 0.99,\n",
    "    gamma_rate = 0.01,\n",
    "    tau_initial = 0.01,\n",
    "    tau_final = 0.001,\n",
    "    tau_rate = 0.001,\n",
    "    noise_factor = 0.9999\n",
    ")"
   ]
  },
  {
   "cell_type": "code",
   "execution_count": null,
   "metadata": {},
   "outputs": [],
   "source": [
    "import matplotlib.pyplot as plt\n",
    "\n",
    "#avg_mask = np.ones(100) / 100\n",
    "#score_avg= np.convolve(scores, avg_mask, 'valid')\n",
    "\n",
    "fig = plt.figure()\n",
    "ax = fig.add_subplot(111)\n",
    "plt.plot(np.arange(1, len(max_scores)+1), max_scores)\n",
    "plt.plot(np.arange(1, len(max_scores)+1), avg_max_scores, label='avg')\n",
    "plt.ylabel('Score')\n",
    "plt.xlabel('Episode #')\n",
    "plt.show()"
   ]
  },
  {
   "cell_type": "markdown",
   "metadata": {},
   "source": [
    "## 6. Run the Trained Agent"
   ]
  },
  {
   "cell_type": "code",
   "execution_count": null,
   "metadata": {},
   "outputs": [],
   "source": [
    "# Define the agent again. This is not necessary if the entire notebook was run from the beginning.\n",
    "# However, I had to run this section again and did not want to repeat the learningin in Section 5.\n",
    "\n",
    "agent = Agent(\n",
    "    state_size = state_size,\n",
    "    action_size = action_size,\n",
    "    num_agents = num_agents,\n",
    "    random_seed = 19,\n",
    "    actor_fc1 = 128,\n",
    "    actor_fc2 = 128,\n",
    "    critic_fc1 = 128,\n",
    "    critic_fc2 = 128,\n",
    ")"
   ]
  },
  {
   "cell_type": "code",
   "execution_count": null,
   "metadata": {
    "scrolled": true
   },
   "outputs": [],
   "source": [
    "load_and_run(agent, env, 'checkpoint_actor_best_avg_max.pth', 'checkpoint_critic_best_avg_max.pth', 100)"
   ]
  },
  {
   "cell_type": "code",
   "execution_count": null,
   "metadata": {
    "scrolled": true
   },
   "outputs": [],
   "source": [
    "load_and_run(agent, env, 'checkpoint_actor_best_agent_max.pth', 'checkpoint_critic_best_agent_max.pth', 100)"
   ]
  },
  {
   "cell_type": "markdown",
   "metadata": {},
   "source": [
    "When finished, you can close the environment."
   ]
  },
  {
   "cell_type": "code",
   "execution_count": null,
   "metadata": {},
   "outputs": [],
   "source": [
    "env.close()"
   ]
  }
 ],
 "metadata": {
  "kernelspec": {
   "display_name": "Python 3",
   "language": "python",
   "name": "python3"
  },
  "language_info": {
   "codemirror_mode": {
    "name": "ipython",
    "version": 3
   },
   "file_extension": ".py",
   "mimetype": "text/x-python",
   "name": "python",
   "nbconvert_exporter": "python",
   "pygments_lexer": "ipython3",
   "version": "3.10.0"
  }
 },
 "nbformat": 4,
 "nbformat_minor": 4
}
