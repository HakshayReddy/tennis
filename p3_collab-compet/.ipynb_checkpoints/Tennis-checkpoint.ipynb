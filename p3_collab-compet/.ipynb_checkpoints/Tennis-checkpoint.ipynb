{
 "cells": [
  {
   "cell_type": "markdown",
   "metadata": {},
   "source": [
    "# Collaboration and Competition\n",
    "\n",
    "---\n",
    "\n",
    "In this notebook, you will learn how to use the Unity ML-Agents environment for the third project of the [Deep Reinforcement Learning Nanodegree](https://www.udacity.com/course/deep-reinforcement-learning-nanodegree--nd893) program.\n",
    "\n",
    "### 1. Start the Environment\n",
    "\n",
    "We begin by importing the necessary packages.  If the code cell below returns an error, please revisit the project instructions to double-check that you have installed [Unity ML-Agents](https://github.com/Unity-Technologies/ml-agents/blob/master/docs/Installation.md) and [NumPy](http://www.numpy.org/)."
   ]
  },
  {
   "cell_type": "code",
   "execution_count": 3,
   "metadata": {},
   "outputs": [
    {
     "name": "stdout",
     "output_type": "stream",
     "text": [
      "Requirement already satisfied: mlagents_envs in c:\\users\\haksh\\anaconda3\\envs\\rl_project\\lib\\site-packages (0.30.0)\n",
      "Requirement already satisfied: cloudpickle in c:\\users\\haksh\\anaconda3\\envs\\rl_project\\lib\\site-packages (from mlagents_envs) (3.1.0)\n",
      "Requirement already satisfied: grpcio>=1.11.0 in c:\\users\\haksh\\anaconda3\\envs\\rl_project\\lib\\site-packages (from mlagents_envs) (1.48.2)\n",
      "Requirement already satisfied: numpy>=1.14.1 in c:\\users\\haksh\\anaconda3\\envs\\rl_project\\lib\\site-packages (from mlagents_envs) (1.21.2)\n",
      "Requirement already satisfied: Pillow>=4.2.1 in c:\\users\\haksh\\anaconda3\\envs\\rl_project\\lib\\site-packages (from mlagents_envs) (11.0.0)\n",
      "Requirement already satisfied: protobuf>=3.6 in c:\\users\\haksh\\anaconda3\\envs\\rl_project\\lib\\site-packages (from mlagents_envs) (3.19.6)\n",
      "Requirement already satisfied: pyyaml>=3.1.0 in c:\\users\\haksh\\anaconda3\\envs\\rl_project\\lib\\site-packages (from mlagents_envs) (6.0.2)\n",
      "Requirement already satisfied: gym>=0.21.0 in c:\\users\\haksh\\anaconda3\\envs\\rl_project\\lib\\site-packages (from mlagents_envs) (0.26.2)\n",
      "Requirement already satisfied: pettingzoo==1.15.0 in c:\\users\\haksh\\anaconda3\\envs\\rl_project\\lib\\site-packages (from mlagents_envs) (1.15.0)\n",
      "Requirement already satisfied: filelock>=3.4.0 in c:\\users\\haksh\\anaconda3\\envs\\rl_project\\lib\\site-packages (from mlagents_envs) (3.16.1)\n",
      "Requirement already satisfied: six>=1.5.2 in c:\\users\\haksh\\anaconda3\\envs\\rl_project\\lib\\site-packages (from grpcio>=1.11.0->mlagents_envs) (1.17.0)\n",
      "Requirement already satisfied: importlib_metadata>=4.8.0 in c:\\users\\haksh\\anaconda3\\envs\\rl_project\\lib\\site-packages (from gym>=0.21.0->mlagents_envs) (8.5.0)\n",
      "Requirement already satisfied: gym_notices>=0.0.4 in c:\\users\\haksh\\anaconda3\\envs\\rl_project\\lib\\site-packages (from gym>=0.21.0->mlagents_envs) (0.0.8)\n",
      "Requirement already satisfied: zipp>=3.20 in c:\\users\\haksh\\anaconda3\\envs\\rl_project\\lib\\site-packages (from importlib_metadata>=4.8.0->gym>=0.21.0->mlagents_envs) (3.21.0)\n"
     ]
    },
    {
     "ename": "AttributeError",
     "evalue": "module 'numpy.core' has no attribute 'numerictypes'",
     "output_type": "error",
     "traceback": [
      "\u001b[1;31m---------------------------------------------------------------------------\u001b[0m",
      "\u001b[1;31mAttributeError\u001b[0m                            Traceback (most recent call last)",
      "Cell \u001b[1;32mIn[3], line 2\u001b[0m\n\u001b[0;32m      1\u001b[0m get_ipython()\u001b[38;5;241m.\u001b[39msystem(\u001b[38;5;124m'\u001b[39m\u001b[38;5;124mpip install mlagents_envs\u001b[39m\u001b[38;5;124m'\u001b[39m)\n\u001b[1;32m----> 2\u001b[0m \u001b[38;5;28;01mfrom\u001b[39;00m  \u001b[38;5;21;01mmlagents_envs\u001b[39;00m\u001b[38;5;21;01m.\u001b[39;00m\u001b[38;5;21;01menvironment\u001b[39;00m \u001b[38;5;28;01mimport\u001b[39;00m UnityEnvironment\n\u001b[0;32m      3\u001b[0m \u001b[38;5;28;01mimport\u001b[39;00m \u001b[38;5;21;01mnumpy\u001b[39;00m \u001b[38;5;28;01mas\u001b[39;00m \u001b[38;5;21;01mnp\u001b[39;00m\n",
      "File \u001b[1;32m~\\anaconda3\\envs\\RL_Project\\lib\\site-packages\\mlagents_envs\\environment.py:4\u001b[0m\n\u001b[0;32m      1\u001b[0m \u001b[38;5;28;01mimport\u001b[39;00m \u001b[38;5;21;01matexit\u001b[39;00m\n\u001b[0;32m      2\u001b[0m \u001b[38;5;28;01mfrom\u001b[39;00m \u001b[38;5;21;01mdistutils\u001b[39;00m\u001b[38;5;21;01m.\u001b[39;00m\u001b[38;5;21;01mversion\u001b[39;00m \u001b[38;5;28;01mimport\u001b[39;00m StrictVersion\n\u001b[1;32m----> 4\u001b[0m \u001b[38;5;28;01mimport\u001b[39;00m \u001b[38;5;21;01mnumpy\u001b[39;00m \u001b[38;5;28;01mas\u001b[39;00m \u001b[38;5;21;01mnp\u001b[39;00m\n\u001b[0;32m      5\u001b[0m \u001b[38;5;28;01mimport\u001b[39;00m \u001b[38;5;21;01mos\u001b[39;00m\n\u001b[0;32m      6\u001b[0m \u001b[38;5;28;01mimport\u001b[39;00m \u001b[38;5;21;01msubprocess\u001b[39;00m\n",
      "File \u001b[1;32m~\\anaconda3\\envs\\RL_Project\\lib\\site-packages\\numpy\\__init__.py:200\u001b[0m\n\u001b[0;32m    194\u001b[0m __deprecated_attrs__\u001b[38;5;241m.\u001b[39mupdate({\n\u001b[0;32m    195\u001b[0m     n: (\u001b[38;5;28mgetattr\u001b[39m(_builtins, n), _msg\u001b[38;5;241m.\u001b[39mformat(n\u001b[38;5;241m=\u001b[39mn, extended_msg\u001b[38;5;241m=\u001b[39mextended_msg))\n\u001b[0;32m    196\u001b[0m     \u001b[38;5;28;01mfor\u001b[39;00m n, extended_msg \u001b[38;5;129;01min\u001b[39;00m _type_info\n\u001b[0;32m    197\u001b[0m })\n\u001b[0;32m    198\u001b[0m \u001b[38;5;66;03m# Numpy 1.20.0, 2020-10-19\u001b[39;00m\n\u001b[0;32m    199\u001b[0m __deprecated_attrs__[\u001b[38;5;124m\"\u001b[39m\u001b[38;5;124mtypeDict\u001b[39m\u001b[38;5;124m\"\u001b[39m] \u001b[38;5;241m=\u001b[39m (\n\u001b[1;32m--> 200\u001b[0m     \u001b[43mcore\u001b[49m\u001b[38;5;241;43m.\u001b[39;49m\u001b[43mnumerictypes\u001b[49m\u001b[38;5;241m.\u001b[39mtypeDict,\n\u001b[0;32m    201\u001b[0m     \u001b[38;5;124m\"\u001b[39m\u001b[38;5;124m`np.typeDict` is a deprecated alias for `np.sctypeDict`.\u001b[39m\u001b[38;5;124m\"\u001b[39m\n\u001b[0;32m    202\u001b[0m )\n\u001b[0;32m    204\u001b[0m _msg \u001b[38;5;241m=\u001b[39m (\n\u001b[0;32m    205\u001b[0m     \u001b[38;5;124m\"\u001b[39m\u001b[38;5;124m`np.\u001b[39m\u001b[38;5;132;01m{n}\u001b[39;00m\u001b[38;5;124m` is a deprecated alias for `np.compat.\u001b[39m\u001b[38;5;132;01m{n}\u001b[39;00m\u001b[38;5;124m`. \u001b[39m\u001b[38;5;124m\"\u001b[39m\n\u001b[0;32m    206\u001b[0m     \u001b[38;5;124m\"\u001b[39m\u001b[38;5;124mTo silence this warning, use `np.compat.\u001b[39m\u001b[38;5;132;01m{n}\u001b[39;00m\u001b[38;5;124m` by itself. \u001b[39m\u001b[38;5;124m\"\u001b[39m\n\u001b[1;32m   (...)\u001b[0m\n\u001b[0;32m    211\u001b[0m     \u001b[38;5;124m\"\u001b[39m\u001b[38;5;124mDeprecated in NumPy 1.20; for more details and guidance: \u001b[39m\u001b[38;5;124m\"\u001b[39m\n\u001b[0;32m    212\u001b[0m     \u001b[38;5;124m\"\u001b[39m\u001b[38;5;124mhttps://numpy.org/devdocs/release/1.20.0-notes.html#deprecations\u001b[39m\u001b[38;5;124m\"\u001b[39m)\n\u001b[0;32m    214\u001b[0m __deprecated_attrs__[\u001b[38;5;124m\"\u001b[39m\u001b[38;5;124mlong\u001b[39m\u001b[38;5;124m\"\u001b[39m] \u001b[38;5;241m=\u001b[39m (\n\u001b[0;32m    215\u001b[0m     \u001b[38;5;28mgetattr\u001b[39m(compat, \u001b[38;5;124m\"\u001b[39m\u001b[38;5;124mlong\u001b[39m\u001b[38;5;124m\"\u001b[39m),\n\u001b[0;32m    216\u001b[0m     _msg\u001b[38;5;241m.\u001b[39mformat(n\u001b[38;5;241m=\u001b[39m\u001b[38;5;124m\"\u001b[39m\u001b[38;5;124mlong\u001b[39m\u001b[38;5;124m\"\u001b[39m, n2\u001b[38;5;241m=\u001b[39m\u001b[38;5;124m\"\u001b[39m\u001b[38;5;124mint\u001b[39m\u001b[38;5;124m\"\u001b[39m,\n\u001b[0;32m    217\u001b[0m                 extended_msg\u001b[38;5;241m=\u001b[39m_int_extended_msg\u001b[38;5;241m.\u001b[39mformat(\u001b[38;5;124m\"\u001b[39m\u001b[38;5;124mlong\u001b[39m\u001b[38;5;124m\"\u001b[39m)))\n",
      "\u001b[1;31mAttributeError\u001b[0m: module 'numpy.core' has no attribute 'numerictypes'"
     ]
    }
   ],
   "source": [
    "from  mlagents_envs.environment import UnityEnvironment\n",
    "import numpy as np"
   ]
  },
  {
   "cell_type": "markdown",
   "metadata": {},
   "source": [
    "Next, we will start the environment!  **_Before running the code cell below_**, change the `file_name` parameter to match the location of the Unity environment that you downloaded.\n",
    "\n",
    "- **Mac**: `\"path/to/Tennis.app\"`\n",
    "- **Windows** (x86): `\"path/to/Tennis_Windows_x86/Tennis.exe\"`\n",
    "- **Windows** (x86_64): `\"path/to/Tennis_Windows_x86_64/Tennis.exe\"`\n",
    "- **Linux** (x86): `\"path/to/Tennis_Linux/Tennis.x86\"`\n",
    "- **Linux** (x86_64): `\"path/to/Tennis_Linux/Tennis.x86_64\"`\n",
    "- **Linux** (x86, headless): `\"path/to/Tennis_Linux_NoVis/Tennis.x86\"`\n",
    "- **Linux** (x86_64, headless): `\"path/to/Tennis_Linux_NoVis/Tennis.x86_64\"`\n",
    "\n",
    "For instance, if you are using a Mac, then you downloaded `Tennis.app`.  If this file is in the same folder as the notebook, then the line below should appear as follows:\n",
    "```\n",
    "env = UnityEnvironment(file_name=\"Tennis.app\")\n",
    "```"
   ]
  },
  {
   "cell_type": "code",
   "execution_count": 3,
   "metadata": {},
   "outputs": [
    {
     "name": "stdout",
     "output_type": "stream",
     "text": [
      "[WARNING] Environment timed out shutting down. Killing...\n"
     ]
    },
    {
     "ename": "UnityTimeOutException",
     "evalue": "The Unity environment took too long to respond. Make sure that :\n\t The environment does not need user interaction to launch\n\t The Agents' Behavior Parameters > Behavior Type is set to \"Default\"\n\t The environment and the Python interface have compatible versions.\n\t If you're running on a headless server without graphics support, turn off display by either passing --no-graphics option or build your Unity executable as server build.",
     "output_type": "error",
     "traceback": [
      "\u001b[1;31m---------------------------------------------------------------------------\u001b[0m",
      "\u001b[1;31mUnityTimeOutException\u001b[0m                     Traceback (most recent call last)",
      "Cell \u001b[1;32mIn[3], line 1\u001b[0m\n\u001b[1;32m----> 1\u001b[0m env \u001b[38;5;241m=\u001b[39m UnityEnvironment(file_name\u001b[38;5;241m=\u001b[39m\u001b[38;5;124m\"\u001b[39m\u001b[38;5;124mC:/Users/haksh/Documents/CALSS MATERIALS/SEM6/RL_P/p3_collab-compet/Tennis_Windows_x86_64/Tennis.exe\u001b[39m\u001b[38;5;124m\"\u001b[39m)\n\u001b[0;32m      2\u001b[0m env\u001b[38;5;241m.\u001b[39mreset()\n",
      "File \u001b[1;32mc:\\Users\\haksh\\anaconda3\\Lib\\site-packages\\mlagents_envs\\environment.py:236\u001b[0m, in \u001b[0;36mUnityEnvironment.__init__\u001b[1;34m(self, file_name, worker_id, base_port, seed, no_graphics, timeout_wait, additional_args, side_channels, log_folder, num_areas)\u001b[0m\n\u001b[0;32m    228\u001b[0m rl_init_parameters_in \u001b[38;5;241m=\u001b[39m UnityRLInitializationInputProto(\n\u001b[0;32m    229\u001b[0m     seed\u001b[38;5;241m=\u001b[39mseed,\n\u001b[0;32m    230\u001b[0m     communication_version\u001b[38;5;241m=\u001b[39m\u001b[38;5;28mself\u001b[39m\u001b[38;5;241m.\u001b[39mAPI_VERSION,\n\u001b[1;32m   (...)\u001b[0m\n\u001b[0;32m    233\u001b[0m     num_areas\u001b[38;5;241m=\u001b[39mnum_areas,\n\u001b[0;32m    234\u001b[0m )\n\u001b[0;32m    235\u001b[0m \u001b[38;5;28;01mtry\u001b[39;00m:\n\u001b[1;32m--> 236\u001b[0m     aca_output \u001b[38;5;241m=\u001b[39m \u001b[38;5;28mself\u001b[39m\u001b[38;5;241m.\u001b[39m_send_academy_parameters(rl_init_parameters_in)\n\u001b[0;32m    237\u001b[0m     aca_params \u001b[38;5;241m=\u001b[39m aca_output\u001b[38;5;241m.\u001b[39mrl_initialization_output\n\u001b[0;32m    238\u001b[0m \u001b[38;5;28;01mexcept\u001b[39;00m UnityTimeOutException:\n",
      "File \u001b[1;32mc:\\Users\\haksh\\anaconda3\\Lib\\site-packages\\mlagents_envs\\environment.py:492\u001b[0m, in \u001b[0;36mUnityEnvironment._send_academy_parameters\u001b[1;34m(self, init_parameters)\u001b[0m\n\u001b[0;32m    490\u001b[0m inputs \u001b[38;5;241m=\u001b[39m UnityInputProto()\n\u001b[0;32m    491\u001b[0m inputs\u001b[38;5;241m.\u001b[39mrl_initialization_input\u001b[38;5;241m.\u001b[39mCopyFrom(init_parameters)\n\u001b[1;32m--> 492\u001b[0m \u001b[38;5;28;01mreturn\u001b[39;00m \u001b[38;5;28mself\u001b[39m\u001b[38;5;241m.\u001b[39m_communicator\u001b[38;5;241m.\u001b[39minitialize(inputs, \u001b[38;5;28mself\u001b[39m\u001b[38;5;241m.\u001b[39m_poll_process)\n",
      "File \u001b[1;32mc:\\Users\\haksh\\anaconda3\\Lib\\site-packages\\mlagents_envs\\rpc_communicator.py:126\u001b[0m, in \u001b[0;36mRpcCommunicator.initialize\u001b[1;34m(self, inputs, poll_callback)\u001b[0m\n\u001b[0;32m    123\u001b[0m \u001b[38;5;28;01mdef\u001b[39;00m \u001b[38;5;21minitialize\u001b[39m(\n\u001b[0;32m    124\u001b[0m     \u001b[38;5;28mself\u001b[39m, inputs: UnityInputProto, poll_callback: Optional[PollCallback] \u001b[38;5;241m=\u001b[39m \u001b[38;5;28;01mNone\u001b[39;00m\n\u001b[0;32m    125\u001b[0m ) \u001b[38;5;241m-\u001b[39m\u001b[38;5;241m>\u001b[39m UnityOutputProto:\n\u001b[1;32m--> 126\u001b[0m     \u001b[38;5;28mself\u001b[39m\u001b[38;5;241m.\u001b[39mpoll_for_timeout(poll_callback)\n\u001b[0;32m    127\u001b[0m     aca_param \u001b[38;5;241m=\u001b[39m \u001b[38;5;28mself\u001b[39m\u001b[38;5;241m.\u001b[39munity_to_external\u001b[38;5;241m.\u001b[39mparent_conn\u001b[38;5;241m.\u001b[39mrecv()\u001b[38;5;241m.\u001b[39munity_output\n\u001b[0;32m    128\u001b[0m     message \u001b[38;5;241m=\u001b[39m UnityMessageProto()\n",
      "File \u001b[1;32mc:\\Users\\haksh\\anaconda3\\Lib\\site-packages\\mlagents_envs\\rpc_communicator.py:114\u001b[0m, in \u001b[0;36mRpcCommunicator.poll_for_timeout\u001b[1;34m(self, poll_callback)\u001b[0m\n\u001b[0;32m    111\u001b[0m         poll_callback()\n\u001b[0;32m    113\u001b[0m \u001b[38;5;66;03m# Got this far without reading any data from the connection, so it must be dead.\u001b[39;00m\n\u001b[1;32m--> 114\u001b[0m \u001b[38;5;28;01mraise\u001b[39;00m UnityTimeOutException(\n\u001b[0;32m    115\u001b[0m     \u001b[38;5;124m\"\u001b[39m\u001b[38;5;124mThe Unity environment took too long to respond. Make sure that :\u001b[39m\u001b[38;5;130;01m\\n\u001b[39;00m\u001b[38;5;124m\"\u001b[39m\n\u001b[0;32m    116\u001b[0m     \u001b[38;5;124m\"\u001b[39m\u001b[38;5;130;01m\\t\u001b[39;00m\u001b[38;5;124m The environment does not need user interaction to launch\u001b[39m\u001b[38;5;130;01m\\n\u001b[39;00m\u001b[38;5;124m\"\u001b[39m\n\u001b[0;32m    117\u001b[0m     \u001b[38;5;124m'\u001b[39m\u001b[38;5;130;01m\\t\u001b[39;00m\u001b[38;5;124m The Agents\u001b[39m\u001b[38;5;130;01m\\'\u001b[39;00m\u001b[38;5;124m Behavior Parameters > Behavior Type is set to \u001b[39m\u001b[38;5;124m\"\u001b[39m\u001b[38;5;124mDefault\u001b[39m\u001b[38;5;124m\"\u001b[39m\u001b[38;5;130;01m\\n\u001b[39;00m\u001b[38;5;124m'\u001b[39m\n\u001b[0;32m    118\u001b[0m     \u001b[38;5;124m\"\u001b[39m\u001b[38;5;130;01m\\t\u001b[39;00m\u001b[38;5;124m The environment and the Python interface have compatible versions.\u001b[39m\u001b[38;5;130;01m\\n\u001b[39;00m\u001b[38;5;124m\"\u001b[39m\n\u001b[0;32m    119\u001b[0m     \u001b[38;5;124m\"\u001b[39m\u001b[38;5;130;01m\\t\u001b[39;00m\u001b[38;5;124m If you\u001b[39m\u001b[38;5;124m'\u001b[39m\u001b[38;5;124mre running on a headless server without graphics support, turn off display \u001b[39m\u001b[38;5;124m\"\u001b[39m\n\u001b[0;32m    120\u001b[0m     \u001b[38;5;124m\"\u001b[39m\u001b[38;5;124mby either passing --no-graphics option or build your Unity executable as server build.\u001b[39m\u001b[38;5;124m\"\u001b[39m\n\u001b[0;32m    121\u001b[0m )\n",
      "\u001b[1;31mUnityTimeOutException\u001b[0m: The Unity environment took too long to respond. Make sure that :\n\t The environment does not need user interaction to launch\n\t The Agents' Behavior Parameters > Behavior Type is set to \"Default\"\n\t The environment and the Python interface have compatible versions.\n\t If you're running on a headless server without graphics support, turn off display by either passing --no-graphics option or build your Unity executable as server build."
     ]
    }
   ],
   "source": [
    "env = UnityEnvironment(file_name=\"C:/Users/haksh/Documents/CALSS MATERIALS/SEM6/RL_P/p3_collab-compet/Tennis_Windows_x86_64/Tennis.exe\")\n",
    "env.reset()"
   ]
  },
  {
   "cell_type": "markdown",
   "metadata": {},
   "source": [
    "Environments contain **_brains_** which are responsible for deciding the actions of their associated agents. Here we check for the first brain available, and set it as the default brain we will be controlling from Python."
   ]
  },
  {
   "cell_type": "code",
   "execution_count": 6,
   "metadata": {},
   "outputs": [
    {
     "ename": "AttributeError",
     "evalue": "module 'mlagents_envs' has no attribute 'UnityEnvironment'",
     "output_type": "error",
     "traceback": [
      "\u001b[1;31m---------------------------------------------------------------------------\u001b[0m",
      "\u001b[1;31mAttributeError\u001b[0m                            Traceback (most recent call last)",
      "Cell \u001b[1;32mIn[6], line 6\u001b[0m\n\u001b[0;32m      1\u001b[0m \u001b[38;5;66;03m# env = UnityEnvironment(file_name=\"C:/Users/haksh/Documents/CALSS MATERIALS/SEM6/RL_P/p3_collab-compet/Tennis_Windows_x86_64/Tennis.exe\")\u001b[39;00m\n\u001b[0;32m      2\u001b[0m \u001b[38;5;66;03m# # get the default brain\u001b[39;00m\n\u001b[0;32m      3\u001b[0m \u001b[38;5;66;03m# brain_name = env.brain_names[0]\u001b[39;00m\n\u001b[0;32m      4\u001b[0m \u001b[38;5;66;03m# brain = env.brains[brain_name]\u001b[39;00m\n\u001b[0;32m      5\u001b[0m \u001b[38;5;66;03m# Create a UnityEnvironment object\u001b[39;00m\n\u001b[1;32m----> 6\u001b[0m env \u001b[38;5;241m=\u001b[39m mlagents_envs\u001b[38;5;241m.\u001b[39mUnityEnvironment(file_name\u001b[38;5;241m=\u001b[39m\u001b[38;5;124m\"\u001b[39m\u001b[38;5;124mC:/Users/haksh/Documents/CALSS MATERIALS/SEM6/RL_P/p3_collab-compet/Tennis_Windows_x86_64/Tennis.exe\u001b[39m\u001b[38;5;124m\"\u001b[39m)\n\u001b[0;32m      8\u001b[0m \u001b[38;5;66;03m# Get the default brain\u001b[39;00m\n\u001b[0;32m      9\u001b[0m brain_name \u001b[38;5;241m=\u001b[39m env\u001b[38;5;241m.\u001b[39mbrain_names[\u001b[38;5;241m0\u001b[39m]\n",
      "\u001b[1;31mAttributeError\u001b[0m: module 'mlagents_envs' has no attribute 'UnityEnvironment'"
     ]
    }
   ],
   "source": [
    "# get the default brain\n",
    "brain_name = env.brain_names[0]\n",
    "brain = env.brains[brain_name]"
   ]
  },
  {
   "cell_type": "markdown",
   "metadata": {},
   "source": [
    "### 2. Examine the State and Action Spaces\n",
    "\n",
    "In this environment, two agents control rackets to bounce a ball over a net. If an agent hits the ball over the net, it receives a reward of +0.1.  If an agent lets a ball hit the ground or hits the ball out of bounds, it receives a reward of -0.01.  Thus, the goal of each agent is to keep the ball in play.\n",
    "\n",
    "The observation space consists of 8 variables corresponding to the position and velocity of the ball and racket. Two continuous actions are available, corresponding to movement toward (or away from) the net, and jumping. \n",
    "\n",
    "Run the code cell below to print some information about the environment."
   ]
  },
  {
   "cell_type": "code",
   "execution_count": null,
   "metadata": {},
   "outputs": [],
   "source": [
    "# reset the environment\n",
    "env_info = env.reset(train_mode=True)[brain_name]\n",
    "\n",
    "# number of agents \n",
    "num_agents = len(env_info.agents)\n",
    "print('Number of agents:', num_agents)\n",
    "\n",
    "# size of each action\n",
    "action_size = brain.vector_action_space_size\n",
    "print('Size of each action:', action_size)\n",
    "\n",
    "# examine the state space \n",
    "states = env_info.vector_observations\n",
    "state_size = states.shape[1]\n",
    "print('There are {} agents. Each observes a state with length: {}'.format(states.shape[0], state_size))\n",
    "print('The state for the first agent looks like:', states[0])"
   ]
  },
  {
   "cell_type": "markdown",
   "metadata": {},
   "source": [
    "### 3. Take Random Actions in the Environment\n",
    "\n",
    "In the next code cell, you will learn how to use the Python API to control the agents and receive feedback from the environment.\n",
    "\n",
    "Once this cell is executed, you will watch the agents' performance, if they select actions at random with each time step.  A window should pop up that allows you to observe the agents.\n",
    "\n",
    "Of course, as part of the project, you'll have to change the code so that the agents are able to use their experiences to gradually choose better actions when interacting with the environment!"
   ]
  },
  {
   "cell_type": "code",
   "execution_count": null,
   "metadata": {},
   "outputs": [],
   "source": [
    "for i in range(1, 6):                                      # play game for 5 episodes\n",
    "    env_info = env.reset(train_mode=False)[brain_name]     # reset the environment    \n",
    "    states = env_info.vector_observations                  # get the current state (for each agent)\n",
    "    scores = np.zeros(num_agents)                          # initialize the score (for each agent)\n",
    "    while True:\n",
    "        actions = np.random.randn(num_agents, action_size) # select an action (for each agent)\n",
    "        actions = np.clip(actions, -1, 1)                  # all actions between -1 and 1\n",
    "        env_info = env.step(actions)[brain_name]           # send all actions to tne environment\n",
    "        next_states = env_info.vector_observations         # get next state (for each agent)\n",
    "        rewards = env_info.rewards                         # get reward (for each agent)\n",
    "        dones = env_info.local_done                        # see if episode finished\n",
    "        scores += env_info.rewards                         # update the score (for each agent)\n",
    "        states = next_states                               # roll over states to next time step\n",
    "        if np.any(dones):                                  # exit loop if episode finished\n",
    "            break\n",
    "    print('Score (max over agents) from episode {}: {}'.format(i, np.max(scores)))"
   ]
  },
  {
   "cell_type": "markdown",
   "metadata": {},
   "source": [
    "When finished, you can close the environment."
   ]
  },
  {
   "cell_type": "code",
   "execution_count": null,
   "metadata": {},
   "outputs": [],
   "source": [
    "env.close()"
   ]
  },
  {
   "cell_type": "markdown",
   "metadata": {},
   "source": [
    "### 4. It's Your Turn!\n",
    "\n",
    "Now it's your turn to train your own agent to solve the environment!  When training the environment, set `train_mode=True`, so that the line for resetting the environment looks like the following:\n",
    "```python\n",
    "env_info = env.reset(train_mode=True)[brain_name]\n",
    "```"
   ]
  }
 ],
 "metadata": {
  "kernelspec": {
   "display_name": "Python 3 (ipykernel)",
   "language": "python",
   "name": "python3"
  },
  "language_info": {
   "codemirror_mode": {
    "name": "ipython",
    "version": 3
   },
   "file_extension": ".py",
   "mimetype": "text/x-python",
   "name": "python",
   "nbconvert_exporter": "python",
   "pygments_lexer": "ipython3",
   "version": "3.9.21"
  }
 },
 "nbformat": 4,
 "nbformat_minor": 2
}
